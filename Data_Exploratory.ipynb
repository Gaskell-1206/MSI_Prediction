{
 "cells": [
  {
   "cell_type": "code",
   "execution_count": 3,
   "metadata": {},
   "outputs": [],
   "source": [
    "import numpy as np\n",
    "import pandas as pd\n",
    "# import seaborn\n",
    "from pathlib import Path\n",
    "from matplotlib import pyplot as plt"
   ]
  },
  {
   "cell_type": "code",
   "execution_count": 4,
   "metadata": {},
   "outputs": [
    {
     "data": {
      "text/plain": [
       "[PosixPath('ex_data/STAD_data_set/STAD_CSV/STAD_TEST_MSIMUT.csv'),\n",
       " PosixPath('ex_data/STAD_data_set/STAD_CSV/STAD_TRAIN_MSIMUT.csv'),\n",
       " PosixPath('ex_data/STAD_data_set/STAD_CSV/STAD_TRAIN_MSS.csv'),\n",
       " PosixPath('ex_data/STAD_data_set/STAD_CSV/STAD_TEST_MSS.csv'),\n",
       " PosixPath('ex_data/CRC_DX_data_set/CRC_DX_CSV/CRC_DX_TRAIN_MSS.csv'),\n",
       " PosixPath('ex_data/CRC_DX_data_set/CRC_DX_CSV/CRC_DX_TRAIN_MSIMUT.csv'),\n",
       " PosixPath('ex_data/CRC_DX_data_set/CRC_DX_CSV/CRC_DX_TEST_MSS.csv'),\n",
       " PosixPath('ex_data/CRC_DX_data_set/CRC_DX_CSV/CRC_DX_TEST_MSIMUT.csv')]"
      ]
     },
     "execution_count": 4,
     "metadata": {},
     "output_type": "execute_result"
    }
   ],
   "source": [
    "file_path = Path('ex_data/')\n",
    "file_list = list(file_path.glob('**/*.csv'))\n",
    "file_list"
   ]
  },
  {
   "cell_type": "code",
   "execution_count": 5,
   "metadata": {},
   "outputs": [],
   "source": [
    "STAD_TEST_MSIMUI = pd.read_csv(file_list[0]).drop(columns='Unnamed: 0')\n",
    "STAD_TRAIN_MSIMUI = pd.read_csv(file_list[1]).drop(columns='Unnamed: 0')\n",
    "STAD_TRAIN_MSS = pd.read_csv(file_list[2]).drop(columns='Unnamed: 0')\n",
    "STAD_TEST_MSS = pd.read_csv(file_list[3]).drop(columns='Unnamed: 0')\n",
    "CRC_DX_TRAIN_MSS = pd.read_csv(file_list[4]).drop(columns='Unnamed: 0')\n",
    "CRC_DX_TRAIN_MSIMUI = pd.read_csv(file_list[5]).drop(columns='Unnamed: 0')\n",
    "CRC_DX_TEST_MSS = pd.read_csv(file_list[6]).drop(columns='Unnamed: 0')\n",
    "CRC_DX_TEST_MSIMUT = pd.read_csv(file_list[7]).drop(columns='Unnamed: 0')"
   ]
  },
  {
   "cell_type": "markdown",
   "metadata": {},
   "source": [
    "# STAD ALL"
   ]
  },
  {
   "cell_type": "code",
   "execution_count": 4,
   "metadata": {},
   "outputs": [
    {
     "data": {
      "text/html": [
       "<div>\n",
       "<style scoped>\n",
       "    .dataframe tbody tr th:only-of-type {\n",
       "        vertical-align: middle;\n",
       "    }\n",
       "\n",
       "    .dataframe tbody tr th {\n",
       "        vertical-align: top;\n",
       "    }\n",
       "\n",
       "    .dataframe thead th {\n",
       "        text-align: right;\n",
       "    }\n",
       "</style>\n",
       "<table border=\"1\" class=\"dataframe\">\n",
       "  <thead>\n",
       "    <tr style=\"text-align: right;\">\n",
       "      <th></th>\n",
       "      <th>data_set</th>\n",
       "      <th>label</th>\n",
       "      <th>slice_id</th>\n",
       "      <th>subject_id</th>\n",
       "      <th>train_test</th>\n",
       "    </tr>\n",
       "  </thead>\n",
       "  <tbody>\n",
       "    <tr>\n",
       "      <th>0</th>\n",
       "      <td>STAD</td>\n",
       "      <td>MSI</td>\n",
       "      <td>VVNQVHRIIIGD</td>\n",
       "      <td>TCGA-F1-6177-01Z-00-DX1</td>\n",
       "      <td>STAD_Test</td>\n",
       "    </tr>\n",
       "    <tr>\n",
       "      <th>1</th>\n",
       "      <td>STAD</td>\n",
       "      <td>MSI</td>\n",
       "      <td>HQGIVHETHMWF</td>\n",
       "      <td>TCGA-D7-A4YY-01Z-00-DX1</td>\n",
       "      <td>STAD_Test</td>\n",
       "    </tr>\n",
       "    <tr>\n",
       "      <th>2</th>\n",
       "      <td>STAD</td>\n",
       "      <td>MSI</td>\n",
       "      <td>AHKALVVKKVEF</td>\n",
       "      <td>TCGA-HU-A4GU-01Z-00-DX1</td>\n",
       "      <td>STAD_Test</td>\n",
       "    </tr>\n",
       "    <tr>\n",
       "      <th>3</th>\n",
       "      <td>STAD</td>\n",
       "      <td>MSI</td>\n",
       "      <td>ARSSKCQKGVCP</td>\n",
       "      <td>TCGA-HU-A4GT-01Z-00-DX1</td>\n",
       "      <td>STAD_Test</td>\n",
       "    </tr>\n",
       "    <tr>\n",
       "      <th>4</th>\n",
       "      <td>STAD</td>\n",
       "      <td>MSI</td>\n",
       "      <td>PMKALESGQGYM</td>\n",
       "      <td>TCGA-BR-7707-01Z-00-DX1</td>\n",
       "      <td>STAD_Test</td>\n",
       "    </tr>\n",
       "    <tr>\n",
       "      <th>...</th>\n",
       "      <td>...</td>\n",
       "      <td>...</td>\n",
       "      <td>...</td>\n",
       "      <td>...</td>\n",
       "      <td>...</td>\n",
       "    </tr>\n",
       "    <tr>\n",
       "      <th>90099</th>\n",
       "      <td>STAD</td>\n",
       "      <td>MSS</td>\n",
       "      <td>ALNLTQNEWSYS</td>\n",
       "      <td>TCGA-VQ-A94U-01Z-00-DX1</td>\n",
       "      <td>STAD_Test</td>\n",
       "    </tr>\n",
       "    <tr>\n",
       "      <th>90100</th>\n",
       "      <td>STAD</td>\n",
       "      <td>MSS</td>\n",
       "      <td>AILYEGGVFKDW</td>\n",
       "      <td>TCGA-D7-A748-01Z-00-DX1</td>\n",
       "      <td>STAD_Test</td>\n",
       "    </tr>\n",
       "    <tr>\n",
       "      <th>90101</th>\n",
       "      <td>STAD</td>\n",
       "      <td>MSS</td>\n",
       "      <td>YLECYRAIPRKQ</td>\n",
       "      <td>TCGA-VQ-AA6G-01Z-00-DX1</td>\n",
       "      <td>STAD_Test</td>\n",
       "    </tr>\n",
       "    <tr>\n",
       "      <th>90102</th>\n",
       "      <td>STAD</td>\n",
       "      <td>MSS</td>\n",
       "      <td>AGNNAERKIYAE</td>\n",
       "      <td>TCGA-RD-A8MV-01Z-00-DX1</td>\n",
       "      <td>STAD_Test</td>\n",
       "    </tr>\n",
       "    <tr>\n",
       "      <th>90103</th>\n",
       "      <td>STAD</td>\n",
       "      <td>MSS</td>\n",
       "      <td>LTVFDQRYQFNM</td>\n",
       "      <td>TCGA-BR-6454-01Z-00-DX1</td>\n",
       "      <td>STAD_Test</td>\n",
       "    </tr>\n",
       "  </tbody>\n",
       "</table>\n",
       "<p>218578 rows × 5 columns</p>\n",
       "</div>"
      ],
      "text/plain": [
       "      data_set label      slice_id               subject_id train_test\n",
       "0         STAD   MSI  VVNQVHRIIIGD  TCGA-F1-6177-01Z-00-DX1  STAD_Test\n",
       "1         STAD   MSI  HQGIVHETHMWF  TCGA-D7-A4YY-01Z-00-DX1  STAD_Test\n",
       "2         STAD   MSI  AHKALVVKKVEF  TCGA-HU-A4GU-01Z-00-DX1  STAD_Test\n",
       "3         STAD   MSI  ARSSKCQKGVCP  TCGA-HU-A4GT-01Z-00-DX1  STAD_Test\n",
       "4         STAD   MSI  PMKALESGQGYM  TCGA-BR-7707-01Z-00-DX1  STAD_Test\n",
       "...        ...   ...           ...                      ...        ...\n",
       "90099     STAD   MSS  ALNLTQNEWSYS  TCGA-VQ-A94U-01Z-00-DX1  STAD_Test\n",
       "90100     STAD   MSS  AILYEGGVFKDW  TCGA-D7-A748-01Z-00-DX1  STAD_Test\n",
       "90101     STAD   MSS  YLECYRAIPRKQ  TCGA-VQ-AA6G-01Z-00-DX1  STAD_Test\n",
       "90102     STAD   MSS  AGNNAERKIYAE  TCGA-RD-A8MV-01Z-00-DX1  STAD_Test\n",
       "90103     STAD   MSS  LTVFDQRYQFNM  TCGA-BR-6454-01Z-00-DX1  STAD_Test\n",
       "\n",
       "[218578 rows x 5 columns]"
      ]
     },
     "execution_count": 4,
     "metadata": {},
     "output_type": "execute_result"
    }
   ],
   "source": [
    "All_data = pd.concat([STAD_TEST_MSIMUI,STAD_TRAIN_MSIMUI,STAD_TRAIN_MSS,STAD_TEST_MSS])\n",
    "All_data"
   ]
  },
  {
   "cell_type": "code",
   "execution_count": 5,
   "metadata": {},
   "outputs": [
    {
     "data": {
      "text/plain": [
       "TCGA-RD-A8MV-01Z-00-DX1    3970\n",
       "TCGA-BR-A4PF-01Z-00-DX1    3772\n",
       "TCGA-F1-6874-01Z-00-DX1    3230\n",
       "TCGA-VQ-A925-01Z-00-DX1    3123\n",
       "TCGA-VQ-AA68-01Z-00-DX1    3111\n",
       "                           ... \n",
       "TCGA-BR-8366-01Z-00-DX1      24\n",
       "TCGA-BR-8365-01Z-00-DX1      17\n",
       "TCGA-D7-6524-01Z-00-DX1      16\n",
       "TCGA-BR-8367-01Z-00-DX1       6\n",
       "TCGA-FP-8099-01Z-00-DX1       6\n",
       "Name: subject_id, Length: 302, dtype: int64"
      ]
     },
     "execution_count": 5,
     "metadata": {},
     "output_type": "execute_result"
    }
   ],
   "source": [
    "value_counts = All_data['subject_id'].value_counts()\n",
    "value_counts"
   ]
  },
  {
   "cell_type": "code",
   "execution_count": 6,
   "metadata": {},
   "outputs": [
    {
     "data": {
      "text/plain": [
       "array([  1,   2,   3,   4,   5,   6,   7,   8,   9,  10,  11,  12,  13,\n",
       "        14,  15,  16,  17,  18,  19,  20,  21,  22,  23,  24,  25,  26,\n",
       "        27,  28,  29,  30,  31,  32,  33,  34,  35,  36,  37,  38,  39,\n",
       "        40,  41,  42,  43,  44,  45,  46,  47,  48,  49,  50,  51,  52,\n",
       "        53,  54,  55,  56,  57,  58,  59,  60,  61,  62,  63,  64,  65,\n",
       "        66,  67,  68,  69,  70,  71,  72,  73,  74,  75,  76,  77,  78,\n",
       "        79,  80,  81,  82,  83,  84,  85,  86,  87,  88,  89,  90,  91,\n",
       "        92,  93,  94,  95,  96,  97,  98,  99, 100, 101, 102, 103, 104,\n",
       "       105, 106, 107, 108, 109, 110, 111, 112, 113, 114, 115, 116, 117,\n",
       "       118, 119, 120, 121, 122, 123, 124, 125, 126, 127, 128, 129, 130,\n",
       "       131, 132, 133, 134, 135, 136, 137, 138, 139, 140, 141, 142, 143,\n",
       "       144, 145, 146, 147, 148, 149, 150, 151, 152, 153, 154, 155, 156,\n",
       "       157, 158, 159, 160, 161, 162, 163, 164, 165, 166, 167, 168, 169,\n",
       "       170, 171, 172, 173, 174, 175, 176, 177, 178, 179, 180, 181, 182,\n",
       "       183, 184, 185, 186, 187, 188, 189, 190, 191, 192, 193, 194, 195,\n",
       "       196, 197, 198, 199, 200, 201, 202, 203, 204, 205, 206, 207, 208,\n",
       "       209, 210, 211, 212, 213, 214, 215, 216, 217, 218, 219, 220, 221,\n",
       "       222, 223, 224, 225, 226, 227, 228, 229, 230, 231, 232, 233, 234,\n",
       "       235, 236, 237, 238, 239, 240, 241, 242, 243, 244, 245, 246, 247,\n",
       "       248, 249, 250, 251, 252, 253, 254, 255, 256, 257, 258, 259, 260,\n",
       "       261, 262, 263, 264, 265, 266, 267, 268, 269, 270, 271, 272, 273,\n",
       "       274, 275, 276, 277, 278, 279, 280, 281, 282, 283, 284, 285, 286,\n",
       "       287, 288, 289, 290, 291, 292, 293, 294, 295, 296, 297, 298, 299,\n",
       "       300, 301, 302])"
      ]
     },
     "execution_count": 6,
     "metadata": {},
     "output_type": "execute_result"
    }
   ],
   "source": [
    "x = np.arange(1,len(value_counts.values)+1)\n",
    "x"
   ]
  },
  {
   "cell_type": "code",
   "execution_count": 7,
   "metadata": {},
   "outputs": [
    {
     "data": {
      "image/png": "[encoded data removed]",
      "text/plain": [
       "<Figure size 864x576 with 1 Axes>"
      ]
     },
     "metadata": {
      "needs_background": "light"
     },
     "output_type": "display_data"
    }
   ],
   "source": [
    "plt.figure(figsize=(12,8))\n",
    "plt.xlabel('Rank')\n",
    "plt.ylabel('Count')\n",
    "plt.bar(x=x, height = value_counts.values)\n",
    "plt.show()"
   ]
  },
  {
   "cell_type": "code",
   "execution_count": 8,
   "metadata": {},
   "outputs": [
    {
     "data": {
      "text/html": [
       "<div>\n",
       "<style scoped>\n",
       "    .dataframe tbody tr th:only-of-type {\n",
       "        vertical-align: middle;\n",
       "    }\n",
       "\n",
       "    .dataframe tbody tr th {\n",
       "        vertical-align: top;\n",
       "    }\n",
       "\n",
       "    .dataframe thead th {\n",
       "        text-align: right;\n",
       "    }\n",
       "</style>\n",
       "<table border=\"1\" class=\"dataframe\">\n",
       "  <thead>\n",
       "    <tr style=\"text-align: right;\">\n",
       "      <th></th>\n",
       "      <th>data_set</th>\n",
       "      <th>label</th>\n",
       "      <th>slice_id</th>\n",
       "      <th>subject_id</th>\n",
       "      <th>train_test</th>\n",
       "    </tr>\n",
       "  </thead>\n",
       "  <tbody>\n",
       "    <tr>\n",
       "      <th>0</th>\n",
       "      <td>STAD</td>\n",
       "      <td>MSI</td>\n",
       "      <td>VVNQVHRIIIGD</td>\n",
       "      <td>TCGA-F1-6177-01Z-00-DX1</td>\n",
       "      <td>STAD_Test</td>\n",
       "    </tr>\n",
       "    <tr>\n",
       "      <th>1</th>\n",
       "      <td>STAD</td>\n",
       "      <td>MSI</td>\n",
       "      <td>HQGIVHETHMWF</td>\n",
       "      <td>TCGA-D7-A4YY-01Z-00-DX1</td>\n",
       "      <td>STAD_Test</td>\n",
       "    </tr>\n",
       "    <tr>\n",
       "      <th>2</th>\n",
       "      <td>STAD</td>\n",
       "      <td>MSI</td>\n",
       "      <td>AHKALVVKKVEF</td>\n",
       "      <td>TCGA-HU-A4GU-01Z-00-DX1</td>\n",
       "      <td>STAD_Test</td>\n",
       "    </tr>\n",
       "    <tr>\n",
       "      <th>3</th>\n",
       "      <td>STAD</td>\n",
       "      <td>MSI</td>\n",
       "      <td>ARSSKCQKGVCP</td>\n",
       "      <td>TCGA-HU-A4GT-01Z-00-DX1</td>\n",
       "      <td>STAD_Test</td>\n",
       "    </tr>\n",
       "    <tr>\n",
       "      <th>4</th>\n",
       "      <td>STAD</td>\n",
       "      <td>MSI</td>\n",
       "      <td>PMKALESGQGYM</td>\n",
       "      <td>TCGA-BR-7707-01Z-00-DX1</td>\n",
       "      <td>STAD_Test</td>\n",
       "    </tr>\n",
       "    <tr>\n",
       "      <th>...</th>\n",
       "      <td>...</td>\n",
       "      <td>...</td>\n",
       "      <td>...</td>\n",
       "      <td>...</td>\n",
       "      <td>...</td>\n",
       "    </tr>\n",
       "    <tr>\n",
       "      <th>90099</th>\n",
       "      <td>STAD</td>\n",
       "      <td>MSS</td>\n",
       "      <td>ALNLTQNEWSYS</td>\n",
       "      <td>TCGA-VQ-A94U-01Z-00-DX1</td>\n",
       "      <td>STAD_Test</td>\n",
       "    </tr>\n",
       "    <tr>\n",
       "      <th>90100</th>\n",
       "      <td>STAD</td>\n",
       "      <td>MSS</td>\n",
       "      <td>AILYEGGVFKDW</td>\n",
       "      <td>TCGA-D7-A748-01Z-00-DX1</td>\n",
       "      <td>STAD_Test</td>\n",
       "    </tr>\n",
       "    <tr>\n",
       "      <th>90101</th>\n",
       "      <td>STAD</td>\n",
       "      <td>MSS</td>\n",
       "      <td>YLECYRAIPRKQ</td>\n",
       "      <td>TCGA-VQ-AA6G-01Z-00-DX1</td>\n",
       "      <td>STAD_Test</td>\n",
       "    </tr>\n",
       "    <tr>\n",
       "      <th>90102</th>\n",
       "      <td>STAD</td>\n",
       "      <td>MSS</td>\n",
       "      <td>AGNNAERKIYAE</td>\n",
       "      <td>TCGA-RD-A8MV-01Z-00-DX1</td>\n",
       "      <td>STAD_Test</td>\n",
       "    </tr>\n",
       "    <tr>\n",
       "      <th>90103</th>\n",
       "      <td>STAD</td>\n",
       "      <td>MSS</td>\n",
       "      <td>LTVFDQRYQFNM</td>\n",
       "      <td>TCGA-BR-6454-01Z-00-DX1</td>\n",
       "      <td>STAD_Test</td>\n",
       "    </tr>\n",
       "  </tbody>\n",
       "</table>\n",
       "<p>206549 rows × 5 columns</p>\n",
       "</div>"
      ],
      "text/plain": [
       "      data_set label      slice_id               subject_id train_test\n",
       "0         STAD   MSI  VVNQVHRIIIGD  TCGA-F1-6177-01Z-00-DX1  STAD_Test\n",
       "1         STAD   MSI  HQGIVHETHMWF  TCGA-D7-A4YY-01Z-00-DX1  STAD_Test\n",
       "2         STAD   MSI  AHKALVVKKVEF  TCGA-HU-A4GU-01Z-00-DX1  STAD_Test\n",
       "3         STAD   MSI  ARSSKCQKGVCP  TCGA-HU-A4GT-01Z-00-DX1  STAD_Test\n",
       "4         STAD   MSI  PMKALESGQGYM  TCGA-BR-7707-01Z-00-DX1  STAD_Test\n",
       "...        ...   ...           ...                      ...        ...\n",
       "90099     STAD   MSS  ALNLTQNEWSYS  TCGA-VQ-A94U-01Z-00-DX1  STAD_Test\n",
       "90100     STAD   MSS  AILYEGGVFKDW  TCGA-D7-A748-01Z-00-DX1  STAD_Test\n",
       "90101     STAD   MSS  YLECYRAIPRKQ  TCGA-VQ-AA6G-01Z-00-DX1  STAD_Test\n",
       "90102     STAD   MSS  AGNNAERKIYAE  TCGA-RD-A8MV-01Z-00-DX1  STAD_Test\n",
       "90103     STAD   MSS  LTVFDQRYQFNM  TCGA-BR-6454-01Z-00-DX1  STAD_Test\n",
       "\n",
       "[206549 rows x 5 columns]"
      ]
     },
     "execution_count": 8,
     "metadata": {},
     "output_type": "execute_result"
    }
   ],
   "source": [
    "All_data[All_data['subject_id'].str.endswith('DX1')]"
   ]
  },
  {
   "cell_type": "code",
   "execution_count": 12,
   "metadata": {},
   "outputs": [
    {
     "data": {
      "text/plain": [
       "223"
      ]
     },
     "execution_count": 12,
     "metadata": {},
     "output_type": "execute_result"
    }
   ],
   "source": [
    "len(CRC_DX_TRAIN_MSS['subject_id'].value_counts())"
   ]
  },
  {
   "cell_type": "code",
   "execution_count": 11,
   "metadata": {},
   "outputs": [
    {
     "data": {
      "text/plain": [
       "40"
      ]
     },
     "execution_count": 11,
     "metadata": {},
     "output_type": "execute_result"
    }
   ],
   "source": [
    "len(CRC_DX_TRAIN_MSIMUI['subject_id'].value_counts())"
   ]
  },
  {
   "cell_type": "code",
   "execution_count": 13,
   "metadata": {},
   "outputs": [
    {
     "data": {
      "text/plain": [
       "75"
      ]
     },
     "execution_count": 13,
     "metadata": {},
     "output_type": "execute_result"
    }
   ],
   "source": [
    "len(CRC_DX_TEST_MSS['subject_id'].value_counts())"
   ]
  },
  {
   "cell_type": "code",
   "execution_count": 15,
   "metadata": {},
   "outputs": [
    {
     "data": {
      "text/plain": [
       "26"
      ]
     },
     "execution_count": 15,
     "metadata": {},
     "output_type": "execute_result"
    }
   ],
   "source": [
    "len(CRC_DX_TEST_MSIMUT['subject_id'].value_counts())"
   ]
  },
  {
   "cell_type": "markdown",
   "metadata": {},
   "source": [
    "# CRC ALL"
   ]
  },
  {
   "cell_type": "code",
   "execution_count": 6,
   "metadata": {},
   "outputs": [
    {
     "data": {
      "text/html": [
       "<div>\n",
       "<style scoped>\n",
       "    .dataframe tbody tr th:only-of-type {\n",
       "        vertical-align: middle;\n",
       "    }\n",
       "\n",
       "    .dataframe tbody tr th {\n",
       "        vertical-align: top;\n",
       "    }\n",
       "\n",
       "    .dataframe thead th {\n",
       "        text-align: right;\n",
       "    }\n",
       "</style>\n",
       "<table border=\"1\" class=\"dataframe\">\n",
       "  <thead>\n",
       "    <tr style=\"text-align: right;\">\n",
       "      <th></th>\n",
       "      <th>data_set</th>\n",
       "      <th>label</th>\n",
       "      <th>slice_id</th>\n",
       "      <th>subject_id</th>\n",
       "      <th>train_test</th>\n",
       "    </tr>\n",
       "  </thead>\n",
       "  <tbody>\n",
       "    <tr>\n",
       "      <th>0</th>\n",
       "      <td>CRC</td>\n",
       "      <td>MSI</td>\n",
       "      <td>ADPPCPKAFCGC</td>\n",
       "      <td>TCGA-WS-AB45-01Z-00-DX1</td>\n",
       "      <td>CRC_DX_Test</td>\n",
       "    </tr>\n",
       "    <tr>\n",
       "      <th>1</th>\n",
       "      <td>CRC</td>\n",
       "      <td>MSI</td>\n",
       "      <td>QYYYSGVKMYDK</td>\n",
       "      <td>TCGA-CK-6747-01Z-00-DX1</td>\n",
       "      <td>CRC_DX_Test</td>\n",
       "    </tr>\n",
       "    <tr>\n",
       "      <th>2</th>\n",
       "      <td>CRC</td>\n",
       "      <td>MSI</td>\n",
       "      <td>VAKGHDVEDIGV</td>\n",
       "      <td>TCGA-CM-4743-01Z-00-DX1</td>\n",
       "      <td>CRC_DX_Test</td>\n",
       "    </tr>\n",
       "    <tr>\n",
       "      <th>3</th>\n",
       "      <td>CRC</td>\n",
       "      <td>MSI</td>\n",
       "      <td>DTLMKTVDTCVF</td>\n",
       "      <td>TCGA-AY-6197-01Z-00-DX1</td>\n",
       "      <td>CRC_DX_Test</td>\n",
       "    </tr>\n",
       "    <tr>\n",
       "      <th>4</th>\n",
       "      <td>CRC</td>\n",
       "      <td>MSI</td>\n",
       "      <td>VLHQGRTNPIVC</td>\n",
       "      <td>TCGA-DC-6154-01Z-00-DX1</td>\n",
       "      <td>CRC_DX_Test</td>\n",
       "    </tr>\n",
       "    <tr>\n",
       "      <th>...</th>\n",
       "      <td>...</td>\n",
       "      <td>...</td>\n",
       "      <td>...</td>\n",
       "      <td>...</td>\n",
       "      <td>...</td>\n",
       "    </tr>\n",
       "    <tr>\n",
       "      <th>70564</th>\n",
       "      <td>CRC</td>\n",
       "      <td>MSS</td>\n",
       "      <td>YCAWFCGQRNEK</td>\n",
       "      <td>TCGA-D5-6537-01Z-00-DX1</td>\n",
       "      <td>CRC_DX_Test</td>\n",
       "    </tr>\n",
       "    <tr>\n",
       "      <th>70565</th>\n",
       "      <td>CRC</td>\n",
       "      <td>MSS</td>\n",
       "      <td>MQPRPYCCMMQP</td>\n",
       "      <td>TCGA-CM-5868-01Z-00-DX1</td>\n",
       "      <td>CRC_DX_Test</td>\n",
       "    </tr>\n",
       "    <tr>\n",
       "      <th>70566</th>\n",
       "      <td>CRC</td>\n",
       "      <td>MSS</td>\n",
       "      <td>FDGSAVSYHDMY</td>\n",
       "      <td>TCGA-CM-5868-01Z-00-DX1</td>\n",
       "      <td>CRC_DX_Test</td>\n",
       "    </tr>\n",
       "    <tr>\n",
       "      <th>70567</th>\n",
       "      <td>CRC</td>\n",
       "      <td>MSS</td>\n",
       "      <td>KHSHLIEEDRAD</td>\n",
       "      <td>TCGA-AA-A02O-01Z-00-DX1</td>\n",
       "      <td>CRC_DX_Test</td>\n",
       "    </tr>\n",
       "    <tr>\n",
       "      <th>70568</th>\n",
       "      <td>CRC</td>\n",
       "      <td>MSS</td>\n",
       "      <td>KATPTWCQNFMA</td>\n",
       "      <td>TCGA-F4-6460-01Z-00-DX1</td>\n",
       "      <td>CRC_DX_Test</td>\n",
       "    </tr>\n",
       "  </tbody>\n",
       "</table>\n",
       "<p>192312 rows × 5 columns</p>\n",
       "</div>"
      ],
      "text/plain": [
       "      data_set label      slice_id               subject_id   train_test\n",
       "0          CRC   MSI  ADPPCPKAFCGC  TCGA-WS-AB45-01Z-00-DX1  CRC_DX_Test\n",
       "1          CRC   MSI  QYYYSGVKMYDK  TCGA-CK-6747-01Z-00-DX1  CRC_DX_Test\n",
       "2          CRC   MSI  VAKGHDVEDIGV  TCGA-CM-4743-01Z-00-DX1  CRC_DX_Test\n",
       "3          CRC   MSI  DTLMKTVDTCVF  TCGA-AY-6197-01Z-00-DX1  CRC_DX_Test\n",
       "4          CRC   MSI  VLHQGRTNPIVC  TCGA-DC-6154-01Z-00-DX1  CRC_DX_Test\n",
       "...        ...   ...           ...                      ...          ...\n",
       "70564      CRC   MSS  YCAWFCGQRNEK  TCGA-D5-6537-01Z-00-DX1  CRC_DX_Test\n",
       "70565      CRC   MSS  MQPRPYCCMMQP  TCGA-CM-5868-01Z-00-DX1  CRC_DX_Test\n",
       "70566      CRC   MSS  FDGSAVSYHDMY  TCGA-CM-5868-01Z-00-DX1  CRC_DX_Test\n",
       "70567      CRC   MSS  KHSHLIEEDRAD  TCGA-AA-A02O-01Z-00-DX1  CRC_DX_Test\n",
       "70568      CRC   MSS  KATPTWCQNFMA  TCGA-F4-6460-01Z-00-DX1  CRC_DX_Test\n",
       "\n",
       "[192312 rows x 5 columns]"
      ]
     },
     "execution_count": 6,
     "metadata": {},
     "output_type": "execute_result"
    }
   ],
   "source": [
    "CRC_All_data = pd.concat([CRC_DX_TEST_MSIMUT,CRC_DX_TRAIN_MSIMUI,CRC_DX_TRAIN_MSS,CRC_DX_TEST_MSS])\n",
    "CRC_All_data"
   ]
  },
  {
   "cell_type": "code",
   "execution_count": 7,
   "metadata": {},
   "outputs": [],
   "source": [
    "CRC_All_data.to_csv('/Users/gaskell/Dropbox/Mac/Desktop/CBH/ex_data/CRC_DX_data_set/CRC_DX_CSV/CRC_DX_ALL.csv')"
   ]
  },
  {
   "cell_type": "code",
   "execution_count": null,
   "metadata": {},
   "outputs": [],
   "source": []
  }
 ],
 "metadata": {
  "interpreter": {
   "hash": "40d3a090f54c6569ab1632332b64b2c03c39dcf918b08424e98f38b5ae0af88f"
  },
  "kernelspec": {
   "display_name": "Python 3.8.8",
   "language": "python",
   "name": "python3"
  },
  "language_info": {
   "codemirror_mode": {
    "name": "ipython",
    "version": 3
   },
   "file_extension": ".py",
   "mimetype": "text/x-python",
   "name": "python",
   "nbconvert_exporter": "python",
   "pygments_lexer": "ipython3",
   "version": "3.9.7"
  },
  "orig_nbformat": 4
 },
 "nbformat": 4,
 "nbformat_minor": 2
}
